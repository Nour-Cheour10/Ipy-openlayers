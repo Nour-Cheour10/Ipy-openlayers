{
 "cells": [
  {
   "cell_type": "markdown",
   "id": "09e21430-c32c-44e6-8746-8dc29ebb2cda",
   "metadata": {},
   "source": [
    "# Video Overlay "
   ]
  },
  {
   "cell_type": "code",
   "execution_count": 2,
   "id": "a6d5c461-1402-40e1-bee4-1cfd951d0f24",
   "metadata": {},
   "outputs": [],
   "source": [
    "from ipyopenlayers import Map, ImageOverlay, VideoOverlay,PopupOverlay\n"
   ]
  },
  {
   "cell_type": "code",
   "execution_count": 3,
   "id": "f6be2475-b1a0-47f9-b3d5-0ee70f4acd8b",
   "metadata": {},
   "outputs": [
    {
     "data": {
      "application/vnd.jupyter.widget-view+json": {
       "model_id": "a2c30ae7d5e44e33932854739232dccb",
       "version_major": 2,
       "version_minor": 0
      },
      "text/plain": [
       "Map(center=[0.0, 0.0], zoom=2.0)"
      ]
     },
     "execution_count": 3,
     "metadata": {},
     "output_type": "execute_result"
    }
   ],
   "source": [
    "m = Map(center=[0.0, 0.0], zoom=2)\n",
    "m"
   ]
  },
  {
   "cell_type": "code",
   "execution_count": 7,
   "id": "977b61ea-f1b4-4570-b9df-c06d3fdc7b33",
   "metadata": {},
   "outputs": [],
   "source": [
    "video=VideoOverlay(video_url=\"https://www.mapbox.com/bites/00188/patricia_nasa.webm\")\n",
    "m.add_overlay(video)\n"
   ]
  },
  {
   "cell_type": "code",
   "execution_count": 5,
   "id": "cb100484-37c4-46c1-a891-07dcc6c3cd29",
   "metadata": {},
   "outputs": [],
   "source": [
    "video.position=[-70,70]\n"
   ]
  },
  {
   "cell_type": "code",
   "execution_count": 6,
   "id": "9395a2af-f495-444f-9121-8879bd75b2e3",
   "metadata": {},
   "outputs": [],
   "source": [
    "m.remove_overlay(video)\n"
   ]
  }
 ],
 "metadata": {
  "kernelspec": {
   "display_name": "Python 3 (ipykernel)",
   "language": "python",
   "name": "python3"
  },
  "language_info": {
   "codemirror_mode": {
    "name": "ipython",
    "version": 3
   },
   "file_extension": ".py",
   "mimetype": "text/x-python",
   "name": "python",
   "nbconvert_exporter": "python",
   "pygments_lexer": "ipython3",
   "version": "3.10.14"
  }
 },
 "nbformat": 4,
 "nbformat_minor": 5
}
