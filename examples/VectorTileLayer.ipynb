{
 "cells": [
  {
   "cell_type": "code",
   "execution_count": 33,
   "id": "3e872bf4-ebce-4bf9-a693-45bbe7296b50",
   "metadata": {},
   "outputs": [],
   "source": [
    "from ipyopenlayers import Map, VectorTileLayer, RasterTileLayer"
   ]
  },
  {
   "cell_type": "code",
   "execution_count": 34,
   "id": "b86d142b-3904-4340-ab94-285b25998834",
   "metadata": {},
   "outputs": [],
   "source": [
    "import configparser\n",
    "config = configparser.ConfigParser()\n",
    "config.read('.config.ini')\n",
    "key = config['DEFAULT']['key']"
   ]
  },
  {
   "cell_type": "code",
   "execution_count": 35,
   "id": "7fa3311c-d409-4c46-9493-5d99cc92bd49",
   "metadata": {},
   "outputs": [
    {
     "data": {
      "application/vnd.jupyter.widget-view+json": {
       "model_id": "3057141b3f094af59902b5c157349fdd",
       "version_major": 2,
       "version_minor": 0
      },
      "text/plain": [
       "Map(center=[4.299875503991089, 46.85012303279379], zoom=0.0)"
      ]
     },
     "execution_count": 35,
     "metadata": {},
     "output_type": "execute_result"
    }
   ],
   "source": [
    "m = Map(center=[4.299875503991089, 46.85012303279379], zoom=0)\n",
    "m"
   ]
  },
  {
   "cell_type": "code",
   "execution_count": 36,
   "id": "45bcff0e-d17e-45c1-8ae3-cde10b6936a8",
   "metadata": {},
   "outputs": [],
   "source": [
    "attributions = '<a href=\"https://www.maptiler.com/copyright/\" target=\"_blank\">&copy; MapTiler</a> ' +'<a href=\"https://www.openstreetmap.org/copyright\" target=\"_blank\">&copy; OpenStreetMap contributors</a>';\n",
    "\n",
    "raster = RasterTileLayer(attributions=attributions,url='https://api.maptiler.com/maps/dataviz-dark/{z}/{x}/{y}.png?key=' + key,\n",
    "    tileSize= 512)\n",
    "m.add_layer(raster) "
   ]
  },
  {
   "cell_type": "code",
   "execution_count": 37,
   "id": "925df5fd-5165-4e6f-a2bd-aa9c875c3b42",
   "metadata": {},
   "outputs": [],
   "source": [
    "#TopoJSON\n",
    "vector_layer = VectorTileLayer(\n",
    "    url='https://unpkg.com/world-atlas@1.1.4/world/50m.json',\n",
    "    source_format={\n",
    "        'type': 'TopoJSON',\n",
    "    }\n",
    ")\n",
    "m.add_layer(vector_layer)"
   ]
  },
  {
   "cell_type": "code",
   "execution_count": 38,
   "id": "52a18ec7-981b-4182-846f-91c372aeac98",
   "metadata": {},
   "outputs": [],
   "source": [
    "m.remove_layer(vector_layer)"
   ]
  },
  {
   "cell_type": "code",
   "execution_count": 39,
   "id": "2a617173-7a1e-4e9a-a9db-3b3d6085b5ea",
   "metadata": {},
   "outputs": [],
   "source": [
    "#MVT\n",
    "layer = VectorTileLayer(\n",
    "    url='https://basemaps.arcgis.com/arcgis/rest/services/World_Basemap_v2/VectorTileServer/tile/{z}/{y}/{x}.pbf',\n",
    "    source_format={\n",
    "        'type': 'MVT',\n",
    "    }\n",
    ")\n",
    "\n",
    "# Configuration des autres propriétés du layer\n",
    "layer.attribution =   '<a href=\"https://www.maptiler.com/copyright/\" target=\"_blank\">&copy; MapTiler</a> ' + '<a href=\"https://www.openstreetmap.org/copyright\" target=\"_blank\">&copy; OpenStreetMap contributors</a>'\n",
    "layer.opacity = 0.8\n",
    "layer.min_zoom = 1\n",
    "layer.max_zoom = 20\n",
    "m.add_layer(layer)"
   ]
  },
  {
   "cell_type": "code",
   "execution_count": 40,
   "id": "afc43b3c-805f-4144-97a1-43c9987e9558",
   "metadata": {},
   "outputs": [],
   "source": [
    "m.remove_layer(layer)"
   ]
  },
  {
   "cell_type": "code",
   "execution_count": 22,
   "id": "b6538136-72ca-4bf7-b534-43d99c1f06ba",
   "metadata": {},
   "outputs": [],
   "source": [
    "#MVT\n",
    "layer_mvt = VectorTileLayer(\n",
    "    url='https://ahocevar.com/geoserver/gwc/service/tms/1.0.0/' +'ne:ne_10m_admin_0_countries@EPSG%3A900913@pbf/{z}/{x}/{-y}.pbf',\n",
    "    source_format={\n",
    "        'type': 'MVT',\n",
    "        #'geometry_name': '',  # Décommenter et remplir si nécessaire\n",
    "        #'layer_name': '',     # Décommenter et remplir si nécessaire\n",
    "        #'layers': ['', ''],   # Décommenter et remplir si nécessaire\n",
    "    }\n",
    ")\n",
    "layer.attribution = \"© OpenStreetMap contributors\"\n",
    "layer.opacity = 0.8\n",
    "layer.min_zoom = 1\n",
    "layer.max_zoom = 20\n",
    "m.add_layer(layer_mvt)"
   ]
  },
  {
   "cell_type": "code",
   "execution_count": 23,
   "id": "ad320792-4cbd-412d-927d-212c9129fbce",
   "metadata": {},
   "outputs": [],
   "source": [
    "layer_mvt.url='https://basemaps.arcgis.com/arcgis/rest/services/World_Basemap_v2/VectorTileServer/tile/{z}/{y}/{x}.pbf'\n"
   ]
  },
  {
   "cell_type": "code",
   "execution_count": 24,
   "id": "dc29f47d-6517-4ecf-97f6-3606f6c568bd",
   "metadata": {},
   "outputs": [],
   "source": [
    "m.remove_layer(layer_mvt)"
   ]
  },
  {
   "cell_type": "code",
   "execution_count": 25,
   "id": "5b8fe6af-f413-4244-b94d-88bcf114bb0d",
   "metadata": {},
   "outputs": [],
   "source": [
    "#GeoJSON\n",
    "layer_Geo = VectorTileLayer(\n",
    "    url='https://openlayers.org/data/vector/ecoregions.json',\n",
    "    source_format={\n",
    "        'type': 'GeoJSON',\n",
    "        #'geometry_name': '',  # Décommenter et remplir si nécessaire\n",
    "        #'layer_name': '',     # Décommenter et remplir si nécessaire\n",
    "        #'layers': ['', ''],   # Décommenter et remplir si nécessaire\n",
    "    }\n",
    ")\n",
    "layer_Geo.attribution = \"© OpenStreetMap contributors\"\n",
    "layer_Geo.opacity = 0.8\n",
    "layer_Geo.min_zoom = 1\n",
    "layer_Geo.max_zoom = 20\n",
    "m.add_layer(layer_Geo)"
   ]
  },
  {
   "cell_type": "code",
   "execution_count": 26,
   "id": "1bd06741-2430-42f6-a97a-ce73d73eb9e1",
   "metadata": {},
   "outputs": [],
   "source": [
    "m.remove_layer(layer_Geo)"
   ]
  },
  {
   "cell_type": "code",
   "execution_count": 27,
   "id": "93efaf21-c8a0-43cb-9e6b-efe7851ef9b1",
   "metadata": {},
   "outputs": [],
   "source": [
    "layer.source_format={\n",
    "        'type': 'GeoJSON'}"
   ]
  },
  {
   "cell_type": "code",
   "execution_count": 28,
   "id": "84fcf518-e268-4836-a675-b628e731ba3b",
   "metadata": {},
   "outputs": [],
   "source": [
    "layer.url='https://earthquake.usgs.gov/earthquakes/feed/v1.0/summary/all_week.geojson'"
   ]
  },
  {
   "cell_type": "code",
   "execution_count": 29,
   "id": "d79c4f8d-ee37-4590-98eb-653975f4c737",
   "metadata": {},
   "outputs": [],
   "source": [
    "m.add_layer(layer)"
   ]
  },
  {
   "cell_type": "code",
   "execution_count": 30,
   "id": "6bf30428-a7c8-4798-b4fc-1b9ebb50edcd",
   "metadata": {},
   "outputs": [],
   "source": [
    "layer.opacity = 0.8"
   ]
  },
  {
   "cell_type": "code",
   "execution_count": 31,
   "id": "4a9f7252-456c-4d0e-ba73-1a1af144bab0",
   "metadata": {},
   "outputs": [],
   "source": [
    "m.remove_layer(layer)"
   ]
  },
  {
   "cell_type": "code",
   "execution_count": null,
   "id": "0e330880-0e63-409f-8d96-1bd77d8d41b9",
   "metadata": {},
   "outputs": [],
   "source": []
  }
 ],
 "metadata": {
  "kernelspec": {
   "display_name": "Python 3 (ipykernel)",
   "language": "python",
   "name": "python3"
  },
  "language_info": {
   "codemirror_mode": {
    "name": "ipython",
    "version": 3
   },
   "file_extension": ".py",
   "mimetype": "text/x-python",
   "name": "python",
   "nbconvert_exporter": "python",
   "pygments_lexer": "ipython3",
   "version": "3.10.14"
  }
 },
 "nbformat": 4,
 "nbformat_minor": 5
}
