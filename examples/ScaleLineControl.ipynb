{
 "cells": [
  {
   "cell_type": "markdown",
   "id": "70fe1cd7-e124-4e11-aa7f-0929e542c867",
   "metadata": {},
   "source": [
    "# Scaleline Control"
   ]
  },
  {
   "cell_type": "code",
   "execution_count": 2,
   "id": "d241846c-7900-4bfd-83be-0fbb6acf612f",
   "metadata": {},
   "outputs": [
    {
     "data": {
      "application/vnd.jupyter.widget-view+json": {
       "model_id": "43233fb9481741f08406b6052a305bb5",
       "version_major": 2,
       "version_minor": 0
      },
      "text/plain": [
       "Map(center=[0, 0], zoom=2.0)"
      ]
     },
     "execution_count": 2,
     "metadata": {},
     "output_type": "execute_result"
    }
   ],
   "source": [
    "from ipyopenlayers import Map, ScaleLine\n",
    "\n",
    "\n",
    "# Create a map with initial zoom level and center coordinates\n",
    "m = Map(center=[0, 0], zoom=2)\n",
    "\n",
    "\n",
    "# Add a ScalelineControl to the map\n",
    "scaleline_control = ScaleLine()\n",
    "m.add_control(scaleline_control)\n",
    "\n",
    "\n",
    "# Display the map\n",
    "m"
   ]
  }
 ],
 "metadata": {
  "kernelspec": {
   "display_name": "Python 3 (ipykernel)",
   "language": "python",
   "name": "python3"
  },
  "language_info": {
   "codemirror_mode": {
    "name": "ipython",
    "version": 3
   },
   "file_extension": ".py",
   "mimetype": "text/x-python",
   "name": "python",
   "nbconvert_exporter": "python",
   "pygments_lexer": "ipython3",
   "version": "3.10.14"
  }
 },
 "nbformat": 4,
 "nbformat_minor": 5
}
