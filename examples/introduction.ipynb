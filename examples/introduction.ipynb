{
 "cells": [
  {
   "cell_type": "markdown",
   "metadata": {},
   "source": [
    "# Introduction"
   ]
  },
  {
   "cell_type": "code",
   "execution_count": 1,
   "metadata": {},
   "outputs": [],
   "source": [
    "from ipyopenlayers import Map, TileLayer, ImageOverlay, VideoOverlay,PopupOverlay, ZoomSlider,FullScreen,ScaleLine,MousePosition"
   ]
  },
  {
   "cell_type": "code",
   "execution_count": 2,
   "metadata": {},
   "outputs": [],
   "source": [
    "from ipyopenlayers import GeoJSON, HeatmapLayer, WindLayer, ArrowLayer"
   ]
  },
  {
   "cell_type": "code",
   "execution_count": 3,
   "metadata": {},
   "outputs": [
    {
     "data": {
      "application/vnd.jupyter.widget-view+json": {
       "model_id": "807b9e94c0624a2381d44c0cb242874e",
       "version_major": 2,
       "version_minor": 0
      },
      "text/plain": [
       "Map(center=[0.0, 0.0])"
      ]
     },
     "execution_count": 3,
     "metadata": {},
     "output_type": "execute_result"
    }
   ],
   "source": [
    "m = Map(center=[0.0, 0.0], zoom=2)\n",
    "m"
   ]
  },
  {
   "cell_type": "code",
   "execution_count": 4,
   "metadata": {},
   "outputs": [],
   "source": [
    "layer=TileLayer()\n",
    "m.add_layer(layer)"
   ]
  },
  {
   "cell_type": "code",
   "execution_count": 5,
   "metadata": {},
   "outputs": [],
   "source": [
    "wind=WindLayer()\n"
   ]
  },
  {
   "cell_type": "code",
   "execution_count": 6,
   "metadata": {},
   "outputs": [],
   "source": [
    "import json\n",
    "\n",
    "with open('./metadata.json', 'r') as f:\n",
    "    wind.metadata = json.load(f)\n",
    "\n",
    "with open('./u.json', 'r') as f:\n",
    "    wind.ufile = json.load(f)\n",
    "\n",
    "with open('./v.json', 'r') as f:\n",
    "    wind.vfile = json.load(f)"
   ]
  },
  {
   "cell_type": "code",
   "execution_count": 7,
   "metadata": {},
   "outputs": [],
   "source": [
    "m.add_layer(wind)"
   ]
  },
  {
   "cell_type": "code",
   "execution_count": 8,
   "metadata": {},
   "outputs": [],
   "source": [
    "arrow=ArrowLayer()\n"
   ]
  },
  {
   "cell_type": "code",
   "execution_count": 9,
   "metadata": {},
   "outputs": [],
   "source": [
    "import requests\n",
    "import config \n",
    "all_weather_data = []\n",
    "coordinates = [\n",
    "    {\"lat\": 48.8566, \"lon\": 2.3522},  # Paris\n",
    "    {\"lat\": 51.5074, \"lon\": -0.1278},  # London\n",
    "    {\"lat\": 40.7128, \"lon\": -74.0060}  # New York\n",
    "]\n",
    "for coords in coordinates:\n",
    "    url = f'https://api.openweathermap.org/data/2.5/weather?lat={coords[\"lat\"]}&lon={coords[\"lon\"]}&appid={config.API_KEY}'\n",
    "    response = requests.get(url)\n",
    "\n",
    "    if response.status_code == 200:\n",
    "        data = response.json()\n",
    "        \n",
    "        all_weather_data.append(data)\n",
    "        \n",
    "        coord = data.get('coord', {})\n",
    "        weather = data.get('weather', [{}])[0]\n",
    "        main = data.get('main', {})\n",
    "        wind = data.get('wind', {})\n",
    "        sys = data.get('sys', {})\n",
    "\n",
    "        \n",
    "    else:\n",
    "        print(f\"Failed to get weather data for coordinates {coords}: {response.status_code}\")\n"
   ]
  },
  {
   "cell_type": "code",
   "execution_count": 10,
   "metadata": {},
   "outputs": [],
   "source": [
    "arrow.data=all_weather_data\n",
    "\n",
    "m.add_layer(arrow)"
   ]
  },
  {
   "cell_type": "code",
   "execution_count": null,
   "metadata": {},
   "outputs": [],
   "source": []
  },
  {
   "cell_type": "code",
   "execution_count": null,
   "metadata": {},
   "outputs": [],
   "source": []
  }
 ],
 "metadata": {
  "kernelspec": {
   "display_name": "Python 3 (ipykernel)",
   "language": "python",
   "name": "python3"
  },
  "language_info": {
   "codemirror_mode": {
    "name": "ipython",
    "version": 3
   },
   "file_extension": ".py",
   "mimetype": "text/x-python",
   "name": "python",
   "nbconvert_exporter": "python",
   "pygments_lexer": "ipython3",
   "version": "3.10.14"
  }
 },
 "nbformat": 4,
 "nbformat_minor": 4
}
