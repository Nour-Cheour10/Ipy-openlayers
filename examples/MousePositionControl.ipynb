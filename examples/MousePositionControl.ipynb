{
 "cells": [
  {
   "cell_type": "markdown",
   "id": "8ca48fb8-4e68-4b34-9074-2b9d3c7d153b",
   "metadata": {},
   "source": [
    "# Mouse Position Control"
   ]
  },
  {
   "cell_type": "code",
   "execution_count": 2,
   "id": "7d041d0b-ba93-4d0f-b381-1ba7dbc58fd1",
   "metadata": {},
   "outputs": [
    {
     "data": {
      "application/vnd.jupyter.widget-view+json": {
       "model_id": "d9496c101e4a48ad948c9cadcf8ee81f",
       "version_major": 2,
       "version_minor": 0
      },
      "text/plain": [
       "Map(center=[0, 0], zoom=2.0)"
      ]
     },
     "execution_count": 2,
     "metadata": {},
     "output_type": "execute_result"
    }
   ],
   "source": [
    "from ipyopenlayers import Map, MousePosition\n",
    "\n",
    "\n",
    "# Create a map with initial zoom level and center coordinates\n",
    "m = Map(center=[0, 0], zoom=2)\n",
    "\n",
    "\n",
    "# Add a MousePositionControl to the map\n",
    "mouseposition_control = MousePosition()\n",
    "m.add_control(mouseposition_control)\n",
    "\n",
    "\n",
    "# Display the map\n",
    "m"
   ]
  }
 ],
 "metadata": {
  "kernelspec": {
   "display_name": "Python 3 (ipykernel)",
   "language": "python",
   "name": "python3"
  },
  "language_info": {
   "codemirror_mode": {
    "name": "ipython",
    "version": 3
   },
   "file_extension": ".py",
   "mimetype": "text/x-python",
   "name": "python",
   "nbconvert_exporter": "python",
   "pygments_lexer": "ipython3",
   "version": "3.10.14"
  }
 },
 "nbformat": 4,
 "nbformat_minor": 5
}
