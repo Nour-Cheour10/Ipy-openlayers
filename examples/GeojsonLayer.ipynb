{
 "cells": [
  {
   "cell_type": "markdown",
   "id": "07567690-279d-4a51-a3b8-3e78966e5a3a",
   "metadata": {},
   "source": [
    "# GeoJson Layer"
   ]
  },
  {
   "cell_type": "code",
   "execution_count": 35,
   "id": "9c7bb99b-68dc-404f-aced-81ad043c2df2",
   "metadata": {},
   "outputs": [],
   "source": [
    "from ipyopenlayers import Map,GeoJSON, ZoomSlider\n",
    "import os\n",
    "import requests\n",
    "import json"
   ]
  },
  {
   "cell_type": "code",
   "execution_count": 62,
   "id": "5bbf9a36-083d-43f1-85ed-a392424447a4",
   "metadata": {},
   "outputs": [
    {
     "data": {
      "application/vnd.jupyter.widget-view+json": {
       "model_id": "451b9d4f57c343ea9d8afc52cf214e6a",
       "version_major": 2,
       "version_minor": 0
      },
      "text/plain": [
       "Map(center=[-77.03534004873038, 34.587039008217644], zoom=10.0)"
      ]
     },
     "execution_count": 62,
     "metadata": {},
     "output_type": "execute_result"
    }
   ],
   "source": [
    "m = Map(center=[-77.03534004873038, 34.587039008217644], zoom=10)\n",
    "m"
   ]
  },
  {
   "cell_type": "code",
   "execution_count": 63,
   "id": "6564da20-a54b-482a-ab27-a521ccea8ce4",
   "metadata": {},
   "outputs": [],
   "source": [
    "import json\n",
    "\n",
    "with open(\"demo.json\") as f:\n",
    "    data = json.load(f)\n",
    "\n",
    "g = GeoJSON(data=data)\n",
    "m.add_layer(g)"
   ]
  },
  {
   "cell_type": "code",
   "execution_count": 64,
   "id": "8ecc1b16-7bf9-4487-ba70-1e1af6b49b27",
   "metadata": {
    "jupyter": {
     "source_hidden": true
    }
   },
   "outputs": [],
   "source": [
    "g.style = {\n",
    "    'strokeColor': '#1966ad',       \n",
    "    'strokeWidth': 2,               \n",
    "    'pointRadius': 7,               \n",
    "    'fillColor': '#e3eef8',         \n",
    "    'pointFillColor': '#8cc0dd',\n",
    "    'pointStrokeColor': '#084b93',\n",
    "    'pointStrokeWidth': 1.5         \n",
    "}\n"
   ]
  },
  {
   "cell_type": "code",
   "execution_count": 59,
   "id": "31789e86-94e3-4952-834d-17e2f400c8d3",
   "metadata": {},
   "outputs": [
    {
     "data": {
      "application/vnd.jupyter.widget-view+json": {
       "model_id": "09f73e3ffc004fa8a0dea52539df62e5",
       "version_major": 2,
       "version_minor": 0
      },
      "text/plain": [
       "Map(center=[12.930664347487689, 34.39178723145926], zoom=5.8)"
      ]
     },
     "execution_count": 59,
     "metadata": {},
     "output_type": "execute_result"
    }
   ],
   "source": [
    "map = Map(center=[12.930664347487689, 34.39178723145926], zoom=5.8)\n",
    "map"
   ]
  },
  {
   "cell_type": "code",
   "execution_count": 22,
   "id": "e4d4a16f-fdbe-455b-912a-55ee206706b6",
   "metadata": {},
   "outputs": [],
   "source": [
    "zoom_slider = ZoomSlider()\n",
    "map.add_control(zoom_slider)"
   ]
  },
  {
   "cell_type": "code",
   "execution_count": 60,
   "id": "efa97fc4-5fdf-4ef8-a224-de9f41f7da11",
   "metadata": {
    "jupyter": {
     "source_hidden": true
    }
   },
   "outputs": [],
   "source": [
    "geo=GeoJSON(data={\n",
    "  \"type\": \"FeatureCollection\",\n",
    "  \"features\": [\n",
    "    {\n",
    "      \"type\": \"Feature\",\n",
    "      \"id\": \"tunisia0\",\n",
    "      \"geometry\": {\n",
    "        \"type\": \"Point\",\n",
    "        \"coordinates\": [10.1815, 36.8065]\n",
    "      },\n",
    "      \"properties\": {\n",
    "        \"name\": \"Tunis\",\n",
    "        \"value\": 18.25\n",
    "      }\n",
    "    },\n",
    "    {\n",
    "      \"type\": \"Feature\",\n",
    "      \"id\": \"tunisia1\",\n",
    "      \"geometry\": {\n",
    "        \"type\": \"Point\",\n",
    "        \"coordinates\": [9.5375, 33.8869]\n",
    "      },\n",
    "      \"properties\": {\n",
    "        \"name\": \"Kairouan\",\n",
    "        \"value\": 17.92\n",
    "      }\n",
    "    },\n",
    "    {\n",
    "      \"type\": \"Feature\",\n",
    "      \"id\": \"tunisia2\",\n",
    "      \"geometry\": {\n",
    "        \"type\": \"Point\",\n",
    "        \"coordinates\": [10.0732, 36.7949]\n",
    "      },\n",
    "      \"properties\": {\n",
    "        \"name\": \"La Marsa\",\n",
    "        \"value\": 17.54\n",
    "      }\n",
    "    },\n",
    "    {\n",
    "      \"type\": \"Feature\",\n",
    "      \"id\": \"tunisia3\",\n",
    "      \"geometry\": {\n",
    "        \"type\": \"Point\",\n",
    "        \"coordinates\": [10.6370, 35.8256]\n",
    "      },\n",
    "      \"properties\": {\n",
    "        \"name\": \"Monastir\",\n",
    "        \"value\": 17.30\n",
    "      }\n",
    "    },\n",
    "    {\n",
    "      \"type\": \"Feature\",\n",
    "      \"id\": \"tunisia4\",\n",
    "      \"geometry\": {\n",
    "        \"type\": \"Point\",\n",
    "        \"coordinates\": [10.3023, 36.7278]\n",
    "      },\n",
    "      \"properties\": {\n",
    "        \"name\": \"Ariana\",\n",
    "        \"value\": 17.15\n",
    "      }\n",
    "    },\n",
    "    {\n",
    "      \"type\": \"Feature\",\n",
    "      \"id\": \"tunisia5\",\n",
    "      \"geometry\": {\n",
    "        \"type\": \"Point\",\n",
    "        \"coordinates\": [10.5474, 36.3650]\n",
    "      },\n",
    "      \"properties\": {\n",
    "        \"name\": \"Hammamet\",\n",
    "        \"value\": 16.89\n",
    "      }\n",
    "    },\n",
    "    {\n",
    "      \"type\": \"Feature\",\n",
    "      \"id\": \"tunisia6\",\n",
    "      \"geometry\": {\n",
    "        \"type\": \"Point\",\n",
    "        \"coordinates\": [11.0732, 33.5035]\n",
    "      },\n",
    "      \"properties\": {\n",
    "        \"name\": \"Djerba\",\n",
    "        \"value\": 16.63\n",
    "      }\n",
    "    },\n",
    "    {\n",
    "      \"type\": \"Feature\",\n",
    "      \"id\": \"tunisia7\",\n",
    "      \"geometry\": {\n",
    "        \"type\": \"Point\",\n",
    "        \"coordinates\": [10.7603, 34.7406]\n",
    "      },\n",
    "      \"properties\": {\n",
    "        \"name\": \"Sfax\",\n",
    "        \"value\": 16.52\n",
    "      }\n",
    "    },\n",
    "    {\n",
    "      \"type\": \"Feature\",\n",
    "      \"id\": \"tunisia8\",\n",
    "      \"geometry\": {\n",
    "        \"type\": \"Point\",\n",
    "        \"coordinates\": [10.1647, 36.8665]\n",
    "      },\n",
    "      \"properties\": {\n",
    "        \"name\": \"Carthage\",\n",
    "        \"value\": 16.35\n",
    "      }\n",
    "    },\n",
    "    {\n",
    "      \"type\": \"Feature\",\n",
    "      \"id\": \"tunisia9\",\n",
    "      \"geometry\": {\n",
    "        \"type\": \"Point\",\n",
    "        \"coordinates\": [10.6204, 36.4330]\n",
    "      },\n",
    "      \"properties\": {\n",
    "        \"name\": \"Nabeul\",\n",
    "        \"value\": 16.12\n",
    "      }\n",
    "    },\n",
    "    {\n",
    "      \"type\": \"Feature\",\n",
    "      \"id\": \"tunisia10\",\n",
    "      \"geometry\": {\n",
    "        \"type\": \"Point\",\n",
    "        \"coordinates\": [10.0963, 35.6781]\n",
    "      },\n",
    "      \"properties\": {\n",
    "        \"name\": \"Sousse\",\n",
    "        \"value\": 15.95\n",
    "      }\n",
    "    },\n",
    "    {\n",
    "      \"type\": \"Feature\",\n",
    "      \"id\": \"tunisia11\",\n",
    "      \"geometry\": {\n",
    "        \"type\": \"Point\",\n",
    "        \"coordinates\": [9.8739, 37.2760]\n",
    "      },\n",
    "      \"properties\": {\n",
    "        \"name\": \"Bizerte\",\n",
    "        \"value\": 15.72\n",
    "      }\n",
    "    },\n",
    "    {\n",
    "      \"type\": \"Feature\",\n",
    "      \"id\": \"tunisia12\",\n",
    "      \"geometry\": {\n",
    "        \"type\": \"Point\",\n",
    "        \"coordinates\": [10.0464, 36.8164]\n",
    "      },\n",
    "      \"properties\": {\n",
    "        \"name\": \"Le Bardo\",\n",
    "        \"value\": 15.55\n",
    "      }\n",
    "    },\n",
    "    {\n",
    "      \"type\": \"Feature\",\n",
    "      \"id\": \"tunisia13\",\n",
    "      \"geometry\": {\n",
    "        \"type\": \"Point\",\n",
    "        \"coordinates\": [10.1007, 35.6717]\n",
    "      },\n",
    "      \"properties\": {\n",
    "        \"name\": \"Mahdia\",\n",
    "        \"value\": 15.48\n",
    "      }\n",
    "    },\n",
    "    {\n",
    "      \"type\": \"Feature\",\n",
    "      \"id\": \"tunisia14\",\n",
    "      \"geometry\": {\n",
    "        \"type\": \"Point\",\n",
    "        \"coordinates\": [10.4503, 32.9330]\n",
    "      },\n",
    "      \"properties\": {\n",
    "        \"name\": \"Gabès\",\n",
    "        \"value\": 15.29\n",
    "      }\n",
    "    },\n",
    "    {\n",
    "      \"type\": \"Feature\",\n",
    "      \"id\": \"tunisia15\",\n",
    "      \"geometry\": {\n",
    "        \"type\": \"Point\",\n",
    "        \"coordinates\": [10.6477, 35.6780]\n",
    "      },\n",
    "      \"properties\": {\n",
    "        \"name\": \"El Jem\",\n",
    "        \"value\": 15.18\n",
    "      }\n",
    "    },\n",
    "    {\n",
    "      \"type\": \"Feature\",\n",
    "      \"id\": \"tunisia16\",\n",
    "      \"geometry\": {\n",
    "        \"type\": \"Point\",\n",
    "        \"coordinates\": [10.7070, 34.7407]\n",
    "      },\n",
    "      \"properties\": {\n",
    "        \"name\": \"Thyna\",\n",
    "        \"value\": 14.94\n",
    "      }\n",
    "    },\n",
    "    {\n",
    "      \"type\": \"Feature\",\n",
    "      \"id\": \"tunisia17\",\n",
    "      \"geometry\": {\n",
    "        \"type\": \"Point\",\n",
    "        \"coordinates\": [10.4563, 35.0081]\n",
    "      },\n",
    "      \"properties\": {\n",
    "        \"name\": \"Ksar Hellal\",\n",
    "        \"value\": 14.77\n",
    "      }\n",
    "    },\n",
    "    {\n",
    "      \"type\": \"Feature\",\n",
    "      \"id\": \"tunisia18\",\n",
    "      \"geometry\": {\n",
    "        \"type\": \"Point\",\n",
    "        \"coordinates\": [10.1002, 33.8878]\n",
    "      },\n",
    "      \"properties\": {\n",
    "        \"name\": \"Zarzis\",\n",
    "        \"value\": 14.63\n",
    "      }\n",
    "    },\n",
    "    {\n",
    "      \"type\": \"Feature\",\n",
    "      \"id\": \"tunisia19\",\n",
    "      \"geometry\": {\n",
    "        \"type\": \"Point\",\n",
    "        \"coordinates\": [10.0768, 36.8014]\n",
    "      },\n",
    "      \"properties\": {\n",
    "        \"name\": \"La Goulette\",\n",
    "        \"value\": 14.50\n",
    "      }\n",
    "    }\n",
    "  ]\n",
    "})\n",
    "map.add_layer(geo)"
   ]
  },
  {
   "cell_type": "code",
   "execution_count": 61,
   "id": "c53d7c1f-ba1d-486a-941e-f42da9b03c71",
   "metadata": {
    "jupyter": {
     "source_hidden": true
    }
   },
   "outputs": [],
   "source": [
    "geo.style={        \n",
    "    'pointRadius': 7,          \n",
    "    'fillColor': '#FFB6C1',    \n",
    "    'pointFillColor': '#98FB98', \n",
    "    'pointStrokeColor': '#8A2BE2',\n",
    "    'pointStrokeWidth': 1.5\n",
    "}"
   ]
  },
  {
   "cell_type": "code",
   "execution_count": 25,
   "id": "27ba2afb-6330-47ce-97eb-ab5c73c4924d",
   "metadata": {
    "jupyter": {
     "source_hidden": true
    }
   },
   "outputs": [
    {
     "data": {
      "application/vnd.jupyter.widget-view+json": {
       "model_id": "b10b3f4ade45456e85bf9bcd41793a28",
       "version_major": 2,
       "version_minor": 0
      },
      "text/plain": [
       "Map(center=[2.292993630573249, 49.62376705148722], zoom=0.0)"
      ]
     },
     "execution_count": 25,
     "metadata": {},
     "output_type": "execute_result"
    }
   ],
   "source": [
    "# the GeoJSON file\n",
    "if not os.path.exists('europe_110.geo.json'):\n",
    "    url = 'https://raw.githubusercontent.com/jupyter-widgets/ipyleaflet/master/examples/europe_110.geo.json'\n",
    "    r = requests.get(url)\n",
    "    with open('europe_110.geo.json', 'w') as f:\n",
    "        f.write(r.content.decode(\"utf-8\"))\n",
    "\n",
    "# Read the GeoJSON file\n",
    "with open('europe_110.geo.json', 'r') as f:\n",
    "    data = json.load(f)\n",
    "\n",
    "# Create a map with coordinates centered on Europe\n",
    "euro_map = Map(center=[2.292993630573249, 49.62376705148722], zoom=0)  # Note the coordinate order: [latitude, longitude]\n",
    "\n",
    "# Add the GeoJSON layer with the defined style\n",
    "geo_json = GeoJSON(\n",
    "    data=data\n",
    ")\n",
    "# Add the GeoJSON layer to the map\n",
    "euro_map.add_layer(geo_json)\n",
    "euro_map"
   ]
  },
  {
   "cell_type": "code",
   "execution_count": 44,
   "id": "cc4610dc-efff-455f-b6fa-20be67b626e0",
   "metadata": {
    "jupyter": {
     "source_hidden": true
    }
   },
   "outputs": [],
   "source": [
    "geo_json.style = {\n",
    "    'strokeColor': '#004d40',       \n",
    "    'strokeWidth': 2,               \n",
    "    'pointRadius': 7,               \n",
    "    'fillColor': '#80cbc4'\n",
    "}"
   ]
  }
 ],
 "metadata": {
  "kernelspec": {
   "display_name": "Python 3 (ipykernel)",
   "language": "python",
   "name": "python3"
  },
  "language_info": {
   "codemirror_mode": {
    "name": "ipython",
    "version": 3
   },
   "file_extension": ".py",
   "mimetype": "text/x-python",
   "name": "python",
   "nbconvert_exporter": "python",
   "pygments_lexer": "ipython3",
   "version": "3.10.14"
  }
 },
 "nbformat": 4,
 "nbformat_minor": 5
}
