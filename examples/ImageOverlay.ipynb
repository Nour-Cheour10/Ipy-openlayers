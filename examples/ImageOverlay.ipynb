{
 "cells": [
  {
   "cell_type": "markdown",
   "id": "05d0c10b-46aa-4751-8813-839d4ca65ccf",
   "metadata": {},
   "source": [
    "# Image Overlay"
   ]
  },
  {
   "cell_type": "code",
   "execution_count": 8,
   "id": "c5c68c37-2412-45c5-a771-dc261557938c",
   "metadata": {},
   "outputs": [
    {
     "data": {
      "application/vnd.jupyter.widget-view+json": {
       "model_id": "37be067fbd514ef98897e0049e5451c2",
       "version_major": 2,
       "version_minor": 0
      },
      "text/plain": [
       "Map(center=[8.988, -0.686], zoom=3.0)"
      ]
     },
     "execution_count": 8,
     "metadata": {},
     "output_type": "execute_result"
    }
   ],
   "source": [
    "from ipyopenlayers import Map, ImageOverlay\n",
    "m = Map(center=[8.988, -0.686], zoom=3)\n",
    "m\n"
   ]
  },
  {
   "cell_type": "code",
   "execution_count": 9,
   "id": "d368179d-7568-4887-9f25-026cb09e2d04",
   "metadata": {},
   "outputs": [],
   "source": [
    "image=ImageOverlay(image_url=\"https://i.imgur.com/06Q1fSz.png\")\n",
    "m.add_overlay(image)"
   ]
  },
  {
   "cell_type": "code",
   "execution_count": 10,
   "id": "13f1f3e6-4aeb-4700-923d-dd3572751b43",
   "metadata": {},
   "outputs": [],
   "source": [
    "image.position=[-40,40]"
   ]
  },
  {
   "cell_type": "code",
   "execution_count": 11,
   "id": "7e372631-1a08-477b-a2fe-5e48441b9b25",
   "metadata": {},
   "outputs": [],
   "source": [
    "m.remove_overlay(image)"
   ]
  }
 ],
 "metadata": {
  "kernelspec": {
   "display_name": "Python 3 (ipykernel)",
   "language": "python",
   "name": "python3"
  },
  "language_info": {
   "codemirror_mode": {
    "name": "ipython",
    "version": 3
   },
   "file_extension": ".py",
   "mimetype": "text/x-python",
   "name": "python",
   "nbconvert_exporter": "python",
   "pygments_lexer": "ipython3",
   "version": "3.10.14"
  }
 },
 "nbformat": 4,
 "nbformat_minor": 5
}
