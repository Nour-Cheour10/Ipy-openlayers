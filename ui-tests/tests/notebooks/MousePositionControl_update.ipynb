{
 "cells": [
  {
   "cell_type": "markdown",
   "id": "ba6679b5-960c-4ed3-90e1-4c9af69e923d",
   "metadata": {},
   "source": [
    "# Mouse Position Control"
   ]
  },
  {
   "cell_type": "code",
   "execution_count": 2,
   "id": "7d041d0b-ba93-4d0f-b381-1ba7dbc58fd1",
   "metadata": {},
   "outputs": [
    {
     "data": {
      "application/vnd.jupyter.widget-view+json": {
       "model_id": "536060c24e7c47659adc98b952cb04ee",
       "version_major": 2,
       "version_minor": 0
      },
      "text/plain": [
       "Map(center=[0, 0], zoom=2.0)"
      ]
     },
     "execution_count": 2,
     "metadata": {},
     "output_type": "execute_result"
    }
   ],
   "source": [
    "from ipyopenlayers import Map, MousePosition\n",
    "\n",
    "\n",
    "# Create a map with initial zoom level and center coordinates\n",
    "m = Map(center=[0, 0], zoom=2)\n",
    "\n",
    "\n",
    "# Add a MousePositionControl to the map\n",
    "mouseposition_control = MousePosition()\n",
    "m.add_control(mouseposition_control)\n",
    "\n",
    "\n",
    "# Display the map\n",
    "m"
   ]
  }
 ],
 "metadata": {
  "kernelspec": {
   "display_name": "Python 3 (ipykernel)",
   "language": "python",
   "name": "python3"
  },
  "language_info": {
   "codemirror_mode": {
    "name": "ipython",
    "version": 3
   },
   "file_extension": ".py",
   "mimetype": "text/x-python",
   "name": "python",
   "nbconvert_exporter": "python",
   "pygments_lexer": "ipython3",
   "version": "3.10.14"
  }
 },
 "nbformat": 4,
 "nbformat_minor": 5
}
